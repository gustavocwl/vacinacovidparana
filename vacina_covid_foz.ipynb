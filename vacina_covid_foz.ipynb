{
  "nbformat": 4,
  "nbformat_minor": 0,
  "metadata": {
    "colab": {
      "name": "vacina_covid_foz",
      "provenance": [],
      "collapsed_sections": [],
      "include_colab_link": true
    },
    "kernelspec": {
      "name": "python3",
      "display_name": "Python 3"
    }
  },
  "cells": [
    {
      "cell_type": "markdown",
      "metadata": {
        "id": "view-in-github",
        "colab_type": "text"
      },
      "source": [
        "<a href=\"https://colab.research.google.com/github/gustavocwl/vacinacovidpr/blob/main/vacina_covid_foz.ipynb\" target=\"_parent\"><img src=\"https://colab.research.google.com/assets/colab-badge.svg\" alt=\"Open In Colab\"/></a>"
      ]
    },
    {
      "cell_type": "markdown",
      "metadata": {
        "id": "pIat1RwbBArT"
      },
      "source": [
        "**BIBLIOTECAS**\r\n",
        "\r\n",
        "---\r\n",
        "\r\n"
      ]
    },
    {
      "cell_type": "code",
      "metadata": {
        "id": "-1hMuCFqRyBr",
        "collapsed": true
      },
      "source": [
        "pip install pandas"
      ],
      "execution_count": null,
      "outputs": []
    },
    {
      "cell_type": "code",
      "metadata": {
        "id": "cx1bF5_jrAJp",
        "collapsed": true
      },
      "source": [
        "pip install gspread-pandas"
      ],
      "execution_count": null,
      "outputs": []
    },
    {
      "cell_type": "code",
      "metadata": {
        "id": "jDGB4iq5R5Ww"
      },
      "source": [
        "import pandas as pd\n",
        "import numpy as np\n",
        "from google.colab import drive\n",
        "from google.colab import files\n",
        "drive.mount('/content/drive/', force_remount = False)\n",
        "import gspread"
      ],
      "execution_count": null,
      "outputs": []
    },
    {
      "cell_type": "code",
      "metadata": {
        "id": "BGjpBtI5CD9B"
      },
      "source": [
        "from google.colab import auth\r\n",
        "auth.authenticate_user()\r\n",
        "from oauth2client.client import GoogleCredentials as GC\r\n",
        "gc = gspread.authorize(GC.get_application_default())\r\n",
        "from gspread_dataframe import set_with_dataframe"
      ],
      "execution_count": null,
      "outputs": []
    },
    {
      "cell_type": "markdown",
      "metadata": {
        "id": "ZcpmWlU6PN7e"
      },
      "source": [
        "**LEITURA DO RELATÓRIO DO RP POR PACIENTE (DETALHADO)**\r\n",
        "\r\n",
        "\r\n",
        "---"
      ]
    },
    {
      "cell_type": "code",
      "metadata": {
        "id": "zPnyfymBGYi3"
      },
      "source": [
        "# ARQUIVO EXCEL\r\n",
        "local_paciente = r'/content/drive/My Drive/vacina_covid_foz/relatorio_rp/paciente.xls'\r\n",
        "\r\n",
        "# LEITURA DO RELATÓRIO DO RP POR PACIENTE (DETALHADO)\r\n",
        "paciente = pd.read_excel(local_paciente, header=None, skiprows=4, skipfooter=2 , dtype={0:int,1:str,2:str,4:str,5:str,6:str,7:str,8:str,9:str}).copy()\r\n",
        "\r\n",
        "# RENOMEAR COLUNAS\r\n",
        "paciente['Número'] = paciente[0]\r\n",
        "paciente['Nome'] = paciente[1]\r\n",
        "paciente['Sexo'] = paciente[2]\r\n",
        "paciente['Data de nascimento'] = paciente[3]\r\n",
        "paciente['CPF'] = paciente[4]\r\n",
        "paciente['Local'] = paciente[5]\r\n",
        "paciente['Estabelecimento'] = paciente[6]\r\n",
        "paciente['Grupo'] = paciente[7]\r\n",
        "paciente['Vacina'] = paciente[8]\r\n",
        "paciente['Dose'] = paciente[9]\r\n",
        "paciente['Data da aplicação'] = paciente[10]\r\n",
        "\r\n",
        "# SELECIONAR COLUNAS\r\n",
        "paciente = paciente[['Número','Nome','Sexo','Data de nascimento','CPF','Local','Estabelecimento','Grupo','Vacina','Dose','Data da aplicação']].copy()\r\n",
        "\r\n",
        "# CALCULAR IDADE (DATA DA APLICAÇÃO - DATA DE NASCIMENTO)\r\n",
        "paciente['Idade'] = paciente['Data da aplicação'] - paciente['Data de nascimento']\r\n",
        "paciente['Idade'] = paciente['Idade'] / np.timedelta64(1, 'Y')\r\n",
        "paciente['Idade'] = paciente['Idade'].astype(np.int64)\r\n",
        "\r\n",
        "# CATEGORIZAR IDADE EM FAIXA ETÁRIA\r\n",
        "paciente.loc[paciente['Idade'] >=80, 'Faixa Etária'] = '80 anos e mais'\r\n",
        "paciente.loc[paciente['Idade'] <80, 'Faixa Etária'] = '70 a 79 anos'\r\n",
        "paciente.loc[paciente['Idade'] <70, 'Faixa Etária'] = '60 a 69 anos'\r\n",
        "paciente.loc[paciente['Idade'] <60, 'Faixa Etária'] = '50 a 59 anos'\r\n",
        "paciente.loc[paciente['Idade'] <50, 'Faixa Etária'] = '40 a 49 anos'\r\n",
        "paciente.loc[paciente['Idade'] <40, 'Faixa Etária'] = '30 a 39 anos'\r\n",
        "paciente.loc[paciente['Idade'] <30, 'Faixa Etária'] = '20 a 29 anos'\r\n",
        "paciente.loc[paciente['Idade'] <20, 'Faixa Etária'] = '10 a 19 anos'\r\n",
        "paciente.loc[paciente['Idade'] <10, 'Faixa Etária'] = '1 a 9 anos'\r\n",
        "paciente.loc[paciente['Idade'] <1, 'Faixa Etária'] = 'Menores de 1 ano'\r\n",
        "\r\n",
        "# CATEGORIZAR GRUPO EM GRUPO PRIORITÁRIO\r\n",
        "paciente.loc[paciente['Grupo'] == 'Assistente Social', 'Grupo Prioritário'] = 'Trabalhadores da Saúde'\r\n",
        "paciente.loc[paciente['Grupo'] == 'Auxiliar de Enfermagem', 'Grupo Prioritário'] = 'Trabalhadores da Saúde'\r\n",
        "paciente.loc[paciente['Grupo'] == 'Auxiliar de Veterinário', 'Grupo Prioritário'] = 'Trabalhadores da Saúde'\r\n",
        "paciente.loc[paciente['Grupo'] == 'Biólogo', 'Grupo Prioritário'] = 'Trabalhadores da Saúde'\r\n",
        "paciente.loc[paciente['Grupo'] == 'Biomédico', 'Grupo Prioritário'] = 'Trabalhadores da Saúde'\r\n",
        "paciente.loc[paciente['Grupo'] == 'Bombeiro Civil', 'Grupo Prioritário'] = 'Trabalhadores da Saúde'\r\n",
        "paciente.loc[paciente['Grupo'] == 'Bombeiro Militar', 'Grupo Prioritário'] = 'Trabalhadores da Saúde'\r\n",
        "paciente.loc[paciente['Grupo'] == 'Cozinheiro e Auxiliares', 'Grupo Prioritário'] = 'Trabalhadores da Saúde'\r\n",
        "paciente.loc[paciente['Grupo'] == 'Cuidador de Idosos', 'Grupo Prioritário'] = 'Trabalhadores da Saúde'\r\n",
        "paciente.loc[paciente['Grupo'] == 'Diabetes Mellitus', 'Grupo Prioritário'] = 'Trabalhadores da Saúde'\r\n",
        "paciente.loc[paciente['Grupo'] == 'Doula/Parteira', 'Grupo Prioritário'] = 'Trabalhadores da Saúde'\r\n",
        "paciente.loc[paciente['Grupo'] == 'Enfermeiro(a)', 'Grupo Prioritário'] = 'Trabalhadores da Saúde'\r\n",
        "paciente.loc[paciente['Grupo'] == 'Estudante', 'Grupo Prioritário'] = 'Trabalhadores da Saúde'\r\n",
        "paciente.loc[paciente['Grupo'] == 'Farmacêutico', 'Grupo Prioritário'] = 'Trabalhadores da Saúde'\r\n",
        "paciente.loc[paciente['Grupo'] == 'Fisioterapeutas', 'Grupo Prioritário'] = 'Trabalhadores da Saúde'\r\n",
        "paciente.loc[paciente['Grupo'] == 'Fonoaudiólogo', 'Grupo Prioritário'] = 'Trabalhadores da Saúde'\r\n",
        "paciente.loc[paciente['Grupo'] == 'Marinha do Brasil - MB', 'Grupo Prioritário'] = 'Trabalhadores da Saúde'\r\n",
        "paciente.loc[paciente['Grupo'] == 'Motorista de Ambulância', 'Grupo Prioritário'] = 'Trabalhadores da Saúde'\r\n",
        "paciente.loc[paciente['Grupo'] == 'Médico', 'Grupo Prioritário'] = 'Trabalhadores da Saúde'\r\n",
        "paciente.loc[paciente['Grupo'] == 'Médico Veterinário', 'Grupo Prioritário'] = 'Trabalhadores da Saúde'\r\n",
        "paciente.loc[paciente['Grupo'] == 'Nutricionista', 'Grupo Prioritário'] = 'Trabalhadores da Saúde'\r\n",
        "paciente.loc[paciente['Grupo'] == 'Odontologista', 'Grupo Prioritário'] = 'Trabalhadores da Saúde'\r\n",
        "paciente.loc[paciente['Grupo'] == 'Outros', 'Grupo Prioritário'] = 'Trabalhadores da Saúde'\r\n",
        "paciente.loc[paciente['Grupo'] == 'Pessoal da Limpeza', 'Grupo Prioritário'] = 'Trabalhadores da Saúde'\r\n",
        "paciente.loc[paciente['Grupo'] == 'Policial Militar', 'Grupo Prioritário'] = 'Trabalhadores da Saúde'\r\n",
        "paciente.loc[paciente['Grupo'] == 'Profissionais de Educação Física', 'Grupo Prioritário'] = 'Trabalhadores da Saúde'\r\n",
        "paciente.loc[paciente['Grupo'] == 'Psicólogo', 'Grupo Prioritário'] = 'Trabalhadores da Saúde'\r\n",
        "paciente.loc[paciente['Grupo'] == 'Recepcionista', 'Grupo Prioritário'] = 'Trabalhadores da Saúde'\r\n",
        "paciente.loc[paciente['Grupo'] == 'Segurança', 'Grupo Prioritário'] = 'Trabalhadores da Saúde'\r\n",
        "paciente.loc[paciente['Grupo'] == 'Terapeuta Ocupacional', 'Grupo Prioritário'] = 'Trabalhadores da Saúde'\r\n",
        "paciente.loc[paciente['Grupo'] == 'Técnico de Enfermagem', 'Grupo Prioritário'] = 'Trabalhadores da Saúde'\r\n",
        "paciente.loc[paciente['Grupo'] == 'Técnico de Odontologia', 'Grupo Prioritário'] = 'Trabalhadores da Saúde'\r\n",
        "\r\n",
        "paciente.loc[paciente['Grupo'] == 'Pessoas com Deficiência Institucionalizadas', 'Grupo Prioritário'] = 'População acima de 60 anos ILPI'\r\n",
        "paciente.loc[paciente['Grupo'] == 'Pessoas de 60 nos ou mais Institucionalizadas', 'Grupo Prioritário'] = 'População acima de 60 anos ILPI'\r\n",
        "\r\n",
        "paciente.loc[paciente['Grupo'] == 'Pessoas de 60 a 64 anos', 'Grupo Prioritário'] = 'Pessoas de 60 a 74 anos'\r\n",
        "paciente.loc[paciente['Grupo'] == 'Pessoas de 65 a 69 anos', 'Grupo Prioritário'] = 'Pessoas de 60 a 74 anos'\r\n",
        "paciente.loc[paciente['Grupo'] == 'Pessoas de 70 a 74 anos', 'Grupo Prioritário'] = 'Pessoas de 60 a 74 anos'\r\n",
        "\r\n",
        "paciente.loc[paciente['Grupo'] == 'Pessoas de 75 a 79 anos', 'Grupo Prioritário'] = 'Pessoas com 75 anos ou mais'\r\n",
        "paciente.loc[paciente['Grupo'] == 'Pessoas de 80 anos ou mais', 'Grupo Prioritário'] = 'Pessoas com 75 anos ou mais'\r\n",
        "\r\n",
        "# ORDENAR POR DATA\r\n",
        "paciente = paciente.sort_values(by=['Data da aplicação'], ascending=False)\r\n",
        "\r\n",
        "# EXPORTAR GOOGLE SHEETS\r\n",
        "sheet_paciente = gc.open_by_key('1nJxR_MKLCcRNdjablluFRQRjbCD57wD1FR_2CIpqjWM').sheet1\r\n",
        "sheet_paciente.clear()\r\n",
        "set_with_dataframe(sheet_paciente, paciente)\r\n",
        "\r\n",
        "# RELATÓRIO\r\n",
        "print('Doses aplicadas:', len(paciente['Número']))\r\n",
        "print('Vacinados:', len(paciente['Número'].unique()))"
      ],
      "execution_count": null,
      "outputs": []
    },
    {
      "cell_type": "markdown",
      "metadata": {
        "id": "e79AtnCdRQFe"
      },
      "source": [
        "**CRIAR DATAFRAME COM O REGISTRO DA PRIMEIRA E SEGUNDA DOSE POR PACIENTE**"
      ]
    },
    {
      "cell_type": "code",
      "metadata": {
        "id": "Qegm4h6uwCE_"
      },
      "source": [
        "# UNIFICAR REGISTROS DAS DOSES PELO NÚMERO DO PRONTUÁRIO\r\n",
        "paciente_unico = paciente.sort_values(['Número', 'Dose'], ascending = [True, True])\r\n",
        "paciente_unico = paciente_unico.groupby('Número').first().reset_index()\r\n",
        "paciente_unico = paciente_unico.sort_values(by=['Nome'], ascending=True)\r\n",
        "paciente_unico = paciente_unico.reset_index()\r\n",
        "\r\n",
        "# GERAR DATAFRAME DAS PRIMEIRAS DOSES\r\n",
        "primeira_dose = paciente[paciente['Dose'] == '1ª DOSE'].copy()\r\n",
        "\r\n",
        "# GERAR DATAFRAME DAS SEGUNDAS DOSES\r\n",
        "segunda_dose = paciente[paciente['Dose'] == '2ª DOSE'].copy()\r\n",
        "segunda_dose = segunda_dose[['Número','Nome','Local','Estabelecimento','Grupo','Vacina','Dose','Data da aplicação']].copy()\r\n",
        "segunda_dose = segunda_dose.rename(columns={'Nome': 'Nome_2',\r\n",
        "                                            'Local': 'Local_2',\r\n",
        "                                            'Estabelecimento': 'Estabelecimento_2',\r\n",
        "                                            'Grupo': 'Grupo_2',\r\n",
        "                                            'Vacina': 'Vacina_2',\r\n",
        "                                            'Dose': 'Dose_2',\r\n",
        "                                            'Data da aplicação': 'Data da aplicação_2'})\r\n",
        "\r\n",
        "# UNIÃO DATAFRAME\r\n",
        "df_unido = pd.merge(paciente_unico , segunda_dose , on=['Número'] , how='left')\r\n",
        "df_unido = df_unido.sort_values(by=['Nome'], ascending=True)\r\n",
        "df_unido = df_unido.reset_index()\r\n",
        "\r\n",
        "# RELATÓRIO\r\n",
        "print('DF - paciente_unico:', len(paciente_unico['Número']))\r\n",
        "print('DF - primeira_dose:', len(primeira_dose['Número']))\r\n",
        "print('DF - segunda_dose:', len(segunda_dose['Número']))\r\n",
        "print('DF - df_unido:', len(df_unido['Número']))"
      ],
      "execution_count": null,
      "outputs": []
    },
    {
      "cell_type": "markdown",
      "metadata": {
        "id": "6ueR7ZYY1JO9"
      },
      "source": [
        "**GERAR RELATÓRIO DOS REGISTROS COM PRONTUÁRIOS DIFERENTES**\r\n",
        "\r\n",
        "\r\n",
        "---\r\n",
        "\r\n"
      ]
    },
    {
      "cell_type": "code",
      "metadata": {
        "id": "nvyvHQMD1HCs"
      },
      "source": [
        "# RELATÓRIO REGISTRADOS COM PRONTUÁRIOS DIFERENTES\r\n",
        "\r\n",
        "# IDENTIFICAR REGISTROS COM NOMES DUPLICADOS\r\n",
        "duplicados = df_unido.copy()\r\n",
        "duplicados['Duplicado'] = duplicados.duplicated(subset='Nome', keep=False)\r\n",
        "duplicados = duplicados.loc[duplicados['Duplicado'] == True]\r\n",
        "duplicados = duplicados[['Número','Nome','Data de nascimento','CPF']].copy()\r\n",
        "\r\n",
        "# EXPORTAR GOOGLE SHEETS\r\n",
        "sheet_duplicados = gc.open_by_key('1bf3Nk5702Woy3iJfqsb0tcKw1cgYm4xkTnkDKT_LZzQ').sheet1\r\n",
        "sheet_duplicados.clear()\r\n",
        "set_with_dataframe(sheet_duplicados, duplicados)\r\n",
        "\r\n",
        "# RELATÓRIO\r\n",
        "print('Duplicados:', len(duplicados['Número']))"
      ],
      "execution_count": null,
      "outputs": []
    },
    {
      "cell_type": "markdown",
      "metadata": {
        "id": "BCiiPDmf_DkE"
      },
      "source": [
        "**GERAR RELATÓRIO PRIMEIRA DOSE EM BRANCO**\r\n",
        "\r\n",
        "---\r\n",
        "\r\n"
      ]
    },
    {
      "cell_type": "code",
      "metadata": {
        "id": "ex2-3uEB_JIl"
      },
      "source": [
        "# RELATÓRIO REGISTROS COM APENAS SEGUNDA DOSE\r\n",
        "primeira = paciente.copy()\r\n",
        "primeira = primeira[['Número','Nome','Data de nascimento','CPF','Dose']].copy()\r\n",
        "\r\n",
        "primeira = primeira.sort_values(['Número', 'Dose'], ascending = [True, True])\r\n",
        "primeira = primeira.groupby('Número').first().reset_index()\r\n",
        "\r\n",
        "primeira = primeira.loc[primeira['Dose'] == '2ª DOSE']\r\n",
        "primeira = primeira.sort_values('Nome',ascending=True)\r\n",
        "\r\n",
        "primeira = primeira[~primeira.isin(duplicados)].dropna(how = 'all')\r\n",
        "primeira = primeira[primeira['Número'].notna()]\r\n",
        "\r\n",
        "# EXPORTAR GOOGLE SHEETS\r\n",
        "sheet_primeira = gc.open_by_key('110B2Y8jdmCG4aooR9zmlhotegyDjVYv03BLxdo3t_Kw').sheet1\r\n",
        "sheet_primeira.clear()\r\n",
        "set_with_dataframe(sheet_primeira, primeira)\r\n",
        "\r\n",
        "# RELATÓRIO\r\n",
        "print('Duplicados:', len(primeira['Número']))"
      ],
      "execution_count": null,
      "outputs": []
    },
    {
      "cell_type": "markdown",
      "metadata": {
        "id": "fRJRC8_o8rVY"
      },
      "source": [
        "**GERAR RELATÓRIO DOSES REPETIDAS**\r\n",
        "\r\n",
        "\r\n",
        "---\r\n",
        "\r\n"
      ]
    },
    {
      "cell_type": "code",
      "metadata": {
        "id": "qR9m0lUc8rVa"
      },
      "source": [
        "# RELATÓRIO REGISTRADOS COM DOSES REPETIDAS\r\n",
        "\r\n",
        "# IDENTIFICAR REGISTROS COM SEGUNDA DOSE REPETIDA\r\n",
        "primeira_dose_repetida = primeira_dose.copy()\r\n",
        "primeira_dose_repetida['Duplicado'] = primeira_dose_repetida.duplicated(subset='Número', keep=False)\r\n",
        "primeira_dose_repetida = primeira_dose_repetida.loc[primeira_dose_repetida['Duplicado'] == True]\r\n",
        "\r\n",
        "# IDENTIFICAR REGISTROS COM SEGUNDA DOSE REPETIDA\r\n",
        "segunda_dose_repetida = segunda_dose.copy()\r\n",
        "segunda_dose_repetida['Duplicado'] = segunda_dose_repetida.duplicated(subset='Número', keep=False)\r\n",
        "segunda_dose_repetida = segunda_dose_repetida.loc[segunda_dose_repetida['Duplicado'] == True]\r\n",
        "\r\n",
        "# UNIR\r\n",
        "doses_repetidas = pd.concat([primeira_dose_repetida, segunda_dose_repetida])\r\n",
        "doses_repetidas = doses_repetidas.sort_values('Nome',ascending=True)\r\n",
        "\r\n",
        "# EXPORTAR GOOGLE SHEETS\r\n",
        "#sheet_doses_repetidas = gc.open_by_key('18LKsgmvu7bbcLT_wJ-jfeGXBhbOtIV76Y7WsmNYt6ZM').sheet1\r\n",
        "sheet_doses_repetidas = gc.open_by_key('18LKsgmvu7bbcLT_wJ-jfeGXBhbOtIV76Y7WsmNYt6ZM')\r\n",
        "sheet_doses_repetidas = sheet_doses_repetidas.get_worksheet(0)\r\n",
        "sheet_doses_repetidas.clear()\r\n",
        "set_with_dataframe(sheet_doses_repetidas, doses_repetidas,resize=True)\r\n",
        "\r\n",
        "# RELATÓRIO\r\n",
        "print('Duplicados:', len(doses_repetidas['Número']))"
      ],
      "execution_count": null,
      "outputs": []
    },
    {
      "cell_type": "markdown",
      "metadata": {
        "id": "Bk3JT_zBrDol"
      },
      "source": [
        "**TESTES**\r\n",
        "\r\n",
        "---\r\n",
        "\r\n"
      ]
    },
    {
      "cell_type": "code",
      "metadata": {
        "id": "7IVgfM6XrGgD"
      },
      "source": [
        "# EXPORTAR CSV\r\n",
        "#final.to_csv(r'/content/drive/My Drive/vacina_covid_foz/vacina_covid_foz.csv', index = False)"
      ],
      "execution_count": null,
      "outputs": []
    },
    {
      "cell_type": "code",
      "metadata": {
        "id": "tZyqtBplrZD3"
      },
      "source": [
        "# BAIXAR\r\n",
        "#segunda_dose.to_excel('relatorio.xls')\r\n",
        "#files.download('relatorio.xls')"
      ],
      "execution_count": null,
      "outputs": []
    },
    {
      "cell_type": "code",
      "metadata": {
        "id": "0EzuHUkBqCEF"
      },
      "source": [
        "# df_merge[df_merge['Sexo'] == 'Masculino']"
      ],
      "execution_count": null,
      "outputs": []
    }
  ]
}