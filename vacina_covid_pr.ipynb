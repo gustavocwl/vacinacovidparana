{
  "nbformat": 4,
  "nbformat_minor": 0,
  "metadata": {
    "colab": {
      "name": "vacina_covid_pr",
      "provenance": [],
      "collapsed_sections": []
    },
    "kernelspec": {
      "name": "python3",
      "display_name": "Python 3"
    }
  },
  "cells": [
    {
      "cell_type": "code",
      "metadata": {
        "id": "-1hMuCFqRyBr",
        "colab": {
          "base_uri": "https://localhost:8080/"
        },
        "outputId": "60684171-2f6b-46d0-c229-c378565b9c38"
      },
      "source": [
        "pip install pandas"
      ],
      "execution_count": 1,
      "outputs": [
        {
          "output_type": "stream",
          "text": [
            "Requirement already satisfied: pandas in /usr/local/lib/python3.6/dist-packages (1.1.5)\n",
            "Requirement already satisfied: python-dateutil>=2.7.3 in /usr/local/lib/python3.6/dist-packages (from pandas) (2.8.1)\n",
            "Requirement already satisfied: numpy>=1.15.4 in /usr/local/lib/python3.6/dist-packages (from pandas) (1.19.5)\n",
            "Requirement already satisfied: pytz>=2017.2 in /usr/local/lib/python3.6/dist-packages (from pandas) (2018.9)\n",
            "Requirement already satisfied: six>=1.5 in /usr/local/lib/python3.6/dist-packages (from python-dateutil>=2.7.3->pandas) (1.15.0)\n"
          ],
          "name": "stdout"
        }
      ]
    },
    {
      "cell_type": "code",
      "metadata": {
        "id": "jDGB4iq5R5Ww",
        "colab": {
          "base_uri": "https://localhost:8080/"
        },
        "outputId": "a7d0265c-1ee9-4fab-b7bd-a455625eb29e"
      },
      "source": [
        "import pandas as pd\n",
        "import matplotlib.pyplot as plt\n",
        "import seaborn as sns\n",
        "sns.set(rc={'figure.figsize':(11, 4)})\n",
        "\n",
        "import numpy as np\n",
        "from google.colab import drive\n",
        "from google.colab import files\n",
        "drive.mount('/content/drive/', force_remount = False)"
      ],
      "execution_count": 2,
      "outputs": [
        {
          "output_type": "stream",
          "text": [
            "Mounted at /content/drive/\n"
          ],
          "name": "stdout"
        }
      ]
    },
    {
      "cell_type": "code",
      "metadata": {
        "id": "XCpeDrFBlsbU"
      },
      "source": [
        "import gspread\r\n",
        "from google.colab import auth\r\n",
        "auth.authenticate_user()\r\n",
        "from oauth2client.client import GoogleCredentials as GC\r\n",
        "gc = gspread.authorize(GC.get_application_default())\r\n",
        "from gspread_dataframe import set_with_dataframe"
      ],
      "execution_count": 3,
      "outputs": []
    },
    {
      "cell_type": "code",
      "metadata": {
        "id": "Hi5gfzaeRt-a"
      },
      "source": [
        "# LEITURA VACINA\n",
        "\n",
        "url_vacina = f'https://s3-sa-east-1.amazonaws.com/ckan.saude.gov.br/PNI/vacina/2021/part-00000-108b01f1-31c7-429e-8240-cb5711dd5315-c000.csv'\n",
        "df = pd.read_csv(url_vacina , dtype={'estabelecimento_municipio_codigo':str} , sep = '\"' , delimiter = ',' , encoding = 'UTF-8' , low_memory = False , skip_blank_lines = True , error_bad_lines=False)"
      ],
      "execution_count": 4,
      "outputs": []
    },
    {
      "cell_type": "code",
      "metadata": {
        "colab": {
          "base_uri": "https://localhost:8080/"
        },
        "id": "gDJorjf5xSPK",
        "outputId": "5f392310-198c-404e-f9f1-37b41a318446"
      },
      "source": [
        "len(df.index)"
      ],
      "execution_count": 5,
      "outputs": [
        {
          "output_type": "execute_result",
          "data": {
            "text/plain": [
              "4963189"
            ]
          },
          "metadata": {
            "tags": []
          },
          "execution_count": 5
        }
      ]
    },
    {
      "cell_type": "code",
      "metadata": {
        "id": "HSpXdJkcv13u"
      },
      "source": [
        "# SELECIONAR DOSES APLICADAS NO PARANÁ\r\n",
        "vacinapr = df.loc[df['estabelecimento_uf'] == 'PR'].copy()\r\n",
        "\r\n",
        "# SELECIONAR COLUNAS\r\n",
        "vacinapr = vacinapr[['vacina_dataAplicacao','paciente_idade','paciente_enumSexoBiologico','paciente_racaCor_valor','vacina_grupoAtendimento_nome','vacina_categoria_nome','estabelecimento_municipio_codigo','vacina_descricao_dose']].copy()\r\n",
        "\r\n",
        "# FORMATAR DATA\r\n",
        "vacinapr['vacina_dataAplicacao'] = vacinapr['vacina_dataAplicacao'].astype(str).str[0:10]\r\n",
        "vacinapr['vacina_dataAplicacao'] = pd.to_datetime(vacinapr['vacina_dataAplicacao'], format='%Y/%m/%d')\r\n",
        "\r\n",
        "# CATEGORIZAR IDADE EM FAIXA ETÁRIA\r\n",
        "vacinapr.loc[vacinapr['paciente_idade'] >=80, 'Faixa Etária'] = '80 anos e mais'\r\n",
        "vacinapr.loc[vacinapr['paciente_idade'] <80, 'Faixa Etária'] = '70 a 79 anos'\r\n",
        "vacinapr.loc[vacinapr['paciente_idade'] <70, 'Faixa Etária'] = '60 a 69 anos'\r\n",
        "vacinapr.loc[vacinapr['paciente_idade'] <60, 'Faixa Etária'] = '50 a 59 anos'\r\n",
        "vacinapr.loc[vacinapr['paciente_idade'] <50, 'Faixa Etária'] = '40 a 49 anos'\r\n",
        "vacinapr.loc[vacinapr['paciente_idade'] <40, 'Faixa Etária'] = '30 a 39 anos'\r\n",
        "vacinapr.loc[vacinapr['paciente_idade'] <30, 'Faixa Etária'] = '20 a 29 anos'\r\n",
        "vacinapr.loc[vacinapr['paciente_idade'] <20, 'Faixa Etária'] = '10 a 19 anos'\r\n",
        "vacinapr.loc[vacinapr['paciente_idade'] <10, 'Faixa Etária'] = '1 a 0 anos'\r\n",
        "\r\n",
        "# CONTAR REGISTROS INDIVIDUAIS\r\n",
        "vacinapr['contar'] = 1\r\n",
        "\r\n",
        "# PIVOT TABLE FAIXA ETARIA\r\n",
        "vacinados_mun = pd.pivot_table(vacinapr , index=['estabelecimento_municipio_codigo'] , columns=['Faixa Etária'] , values=['contar'] , aggfunc='count' , fill_value=0 , margins=True , margins_name='Total')\r\n",
        "#vacinados_mun = vacinados_mun.head(None)\r\n",
        "\r\n",
        "vacinados_mun_excel = vacinados_mun.to_excel('vacinados_mun_excel.xls')\r\n",
        "\r\n",
        "vacinados_mun_excel = pd.read_excel('vacinados_mun_excel.xls',skiprows=2,skipfooter=1,dtype={'estabelecimento_municipio_codigo':str})\r\n",
        "\r\n",
        "vacinados_mun = vacinados_mun_excel.rename(columns={'estabelecimento_municipio_codigo': 'CodMun6',\r\n",
        "                                                          'Unnamed: 1': 'vac_0-9',\r\n",
        "                                                          'Unnamed: 2': 'vac_10-19',\r\n",
        "                                                          'Unnamed: 3': 'vac_20-29',\r\n",
        "                                                          'Unnamed: 4': 'vac_30-39',\r\n",
        "                                                          'Unnamed: 5': 'vac_40-49',\r\n",
        "                                                          'Unnamed: 6': 'vac_50-59',\r\n",
        "                                                          'Unnamed: 7': 'vac_60-69',\r\n",
        "                                                          'Unnamed: 8': 'vac_70-79',\r\n",
        "                                                          'Unnamed: 9': 'vac_80',\r\n",
        "                                                          'Unnamed: 10': 'vac_total',\r\n",
        "                                                          })\r\n",
        "\r\n",
        "# PIVOT TABLE CATEGORIA\r\n",
        "mun_categoria = pd.pivot_table(vacinapr , index=['estabelecimento_municipio_codigo'] , columns=['vacina_categoria_nome'] , values=['contar'] , aggfunc='count' , fill_value=0 , margins=True , margins_name='Total')\r\n",
        "\r\n",
        "mun_categoria_excel = mun_categoria.to_excel('mun_categoria_excel.xls')\r\n",
        "\r\n",
        "mun_categoria_excel = pd.read_excel('mun_categoria_excel.xls',skiprows=[2],skipfooter=1,dtype={'vacina_categoria_nome':str} , header=1)\r\n",
        "\r\n",
        "mun_categoria = mun_categoria_excel.rename(columns={'vacina_categoria_nome': 'CodMun6'})\r\n",
        "\r\n",
        "# PIVOT TABLE DOSE\r\n",
        "mun_dose = pd.pivot_table(vacinapr , index=['estabelecimento_municipio_codigo'] , columns=['vacina_descricao_dose'] , values=['contar'] , aggfunc='count' , fill_value=0 , margins=True , margins_name='Total')\r\n",
        "\r\n",
        "mun_dose_excel = mun_dose.to_excel('mun_dose_excel.xls')\r\n",
        "\r\n",
        "mun_dose_excel = pd.read_excel('mun_dose_excel.xls',skiprows=[2],skipfooter=1,dtype={'vacina_descricao_dose':str} , header=1)\r\n",
        "\r\n",
        "mun_dose = mun_dose_excel.rename(columns={'vacina_descricao_dose': 'CodMun6',\r\n",
        "                                          '\\xa0\\xa0\\xa0\\xa01ª\\xa0Dose': 'primeira_dose',\r\n",
        "                                          '\\xa0\\xa0\\xa0\\xa02ª\\xa0Dose': 'segunda_dose',\r\n",
        "                                          '\\xa0\\xa0\\xa0\\xa0Única\\xa0': 'unica_dose',\r\n",
        "                                          'Total': 'total_dose'})"
      ],
      "execution_count": 15,
      "outputs": []
    },
    {
      "cell_type": "code",
      "metadata": {
        "colab": {
          "base_uri": "https://localhost:8080/"
        },
        "id": "CNC0wtPLxUwj",
        "outputId": "7c2c3678-fdb2-4dea-dec9-a67b5fa117e8"
      },
      "source": [
        "len(vacinapr.index)"
      ],
      "execution_count": 8,
      "outputs": [
        {
          "output_type": "execute_result",
          "data": {
            "text/plain": [
              "172965"
            ]
          },
          "metadata": {
            "tags": []
          },
          "execution_count": 8
        }
      ]
    },
    {
      "cell_type": "code",
      "metadata": {
        "id": "GCmnp3KiQeyg"
      },
      "source": [
        "# LEITURA INFO MUNICIPIOS\r\n",
        "url_mun_info = 'https://docs.google.com/spreadsheets/d/e/2PACX-1vSklorqgvstUBOt1WBEtkBaRzPGzddNx4A-FUMOSOVxps0fQ4XtT8rPyYNVA7DRQe-6c5nY65cuND88/pub?output=xls'\r\n",
        "mun_info = pd.read_excel(url_mun_info , dtype={'CodMun6':str})\r\n",
        "#mun_info = pd.read_excel(url_mun_info , dtype={'CodMun6':str} , sep = '\"' , delimiter = ',' , encoding = 'latin1' , low_memory = False , skip_blank_lines = True, error_bad_lines=False)"
      ],
      "execution_count": 9,
      "outputs": []
    },
    {
      "cell_type": "code",
      "metadata": {
        "id": "Qegm4h6uwCE_"
      },
      "source": [
        "# VINCULAR INFORMAÇÕES DO MUNICÍPIO\r\n",
        "dfagrupado = pd.merge(mun_info, vacinados_mun, on=['CodMun6'], how='right')\r\n",
        "dfagrupado = pd.merge(dfagrupado, mun_categoria, on=['CodMun6'], how='right')\r\n",
        "dfagrupado = pd.merge(dfagrupado, mun_dose, on=['CodMun6'], how='right')\r\n",
        "\r\n",
        "# INDEX\r\n",
        "#dfagrupado = dfagrupado.set_index('CodMun6')\r\n",
        "\r\n",
        "# SOMAR POPULAÇÃO FAIXA ETÁRIAS\r\n",
        "dfagrupado['pop_70-79'] = dfagrupado['pop_70-74'] + dfagrupado['pop_75-79']\r\n",
        "dfagrupado['pop_60-69'] = dfagrupado['pop_60-64'] + dfagrupado['pop_65-69']\r\n",
        "dfagrupado['pop_50-59'] = dfagrupado['pop_50-54'] + dfagrupado['pop_55-59']\r\n",
        "dfagrupado['pop_40-49'] = dfagrupado['pop_40-44'] + dfagrupado['pop_45-49']\r\n",
        "dfagrupado['pop_30-39'] = dfagrupado['pop_30-34'] + dfagrupado['pop_35-39']\r\n",
        "dfagrupado['pop_20-29'] = dfagrupado['pop_20-24'] + dfagrupado['pop_25-29']\r\n",
        "dfagrupado['pop_10-19'] = dfagrupado['pop_10-14'] + dfagrupado['pop_15-19']\r\n",
        "dfagrupado['pop_0-9'] = dfagrupado['pop_0-4'] + dfagrupado['pop_5-9']\r\n",
        "\r\n",
        "# CALCULAR COBERTURA VACINAL\r\n",
        "dfagrupado['cv_0-9'] = ( dfagrupado['vac_0-9'] / dfagrupado['pop_0-9'] ) * 100\r\n",
        "dfagrupado['cv_10-19'] = ( dfagrupado['vac_10-19'] / dfagrupado['pop_10-19'] ) * 100\r\n",
        "dfagrupado['cv_20-29'] = ( dfagrupado['vac_20-29'] / dfagrupado['pop_20-29'] ) * 100\r\n",
        "dfagrupado['cv_30-39'] = ( dfagrupado['vac_30-39'] / dfagrupado['pop_30-39'] ) * 100\r\n",
        "dfagrupado['cv_40-49'] = ( dfagrupado['vac_40-49'] / dfagrupado['pop_40-49'] ) * 100\r\n",
        "dfagrupado['cv_50-59'] = ( dfagrupado['vac_50-59'] / dfagrupado['pop_50-59'] ) * 100\r\n",
        "dfagrupado['cv_60-69'] = ( dfagrupado['vac_60-69'] / dfagrupado['pop_60-69'] ) * 100\r\n",
        "dfagrupado['cv_70-79'] = ( dfagrupado['vac_70-79'] / dfagrupado['pop_70-79']) * 100\r\n",
        "dfagrupado['cv_80'] = ( dfagrupado['vac_80'] / dfagrupado['pop_80'] ) * 100"
      ],
      "execution_count": 10,
      "outputs": []
    },
    {
      "cell_type": "code",
      "metadata": {
        "id": "wMbnt273l_9g"
      },
      "source": [
        "# EXPORTAR GOOGLE SHEETS\r\n",
        "sheet_vacina_covid_pr = gc.open_by_key('1W2VYW63iJnHrLWJSZADIu-H6tgpOmPU5YQEvFH_Dm6w').sheet1\r\n",
        "sheet_vacina_covid_pr.clear()\r\n",
        "set_with_dataframe(sheet_vacina_covid_pr, dfagrupado)"
      ],
      "execution_count": 11,
      "outputs": []
    },
    {
      "cell_type": "code",
      "metadata": {
        "id": "P7Fqup-JMcK1"
      },
      "source": [
        "# EXPORTAR\r\n",
        "#vacinadospr.to_csv(r'/content/drive/My Drive/vacina_covid_parana/vacina.csv', index = False)"
      ],
      "execution_count": 12,
      "outputs": []
    }
  ]
}